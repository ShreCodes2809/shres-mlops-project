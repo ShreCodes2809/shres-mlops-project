{
 "cells": [
  {
   "cell_type": "code",
   "execution_count": 2,
   "id": "dff6dded",
   "metadata": {},
   "outputs": [
    {
     "data": {
      "text/plain": [
       "'/Users/shreyashsahare28/Documents/SHREYASH/MASTERS/ADDITIONAL_PROJECTS/shres-mlops-project/research'"
      ]
     },
     "execution_count": 2,
     "metadata": {},
     "output_type": "execute_result"
    }
   ],
   "source": [
    "import os\n",
    "%pwd"
   ]
  },
  {
   "cell_type": "code",
   "execution_count": 3,
   "id": "551b9fc8",
   "metadata": {},
   "outputs": [],
   "source": [
    "os.chdir('../')"
   ]
  },
  {
   "cell_type": "code",
   "execution_count": 4,
   "id": "6b6a1667",
   "metadata": {},
   "outputs": [
    {
     "data": {
      "text/plain": [
       "'/Users/shreyashsahare28/Documents/SHREYASH/MASTERS/ADDITIONAL_PROJECTS/shres-mlops-project'"
      ]
     },
     "execution_count": 4,
     "metadata": {},
     "output_type": "execute_result"
    }
   ],
   "source": [
    "%pwd"
   ]
  },
  {
   "cell_type": "code",
   "execution_count": 5,
   "id": "701d3fe3",
   "metadata": {},
   "outputs": [],
   "source": [
    "from dataclasses import dataclass\n",
    "from pathlib import Path\n",
    "\n",
    "@dataclass(frozen=True)\n",
    "class DataIngestionConfig:\n",
    "    root_dir: Path\n",
    "    source_URL: str\n",
    "    local_data_file: Path\n",
    "    unzip_dir: Path"
   ]
  },
  {
   "cell_type": "code",
   "execution_count": 6,
   "id": "a4db5199",
   "metadata": {},
   "outputs": [],
   "source": [
    "from mlops_proj.constants import *\n",
    "from mlops_proj.utils.common import read_yaml, create_directories"
   ]
  },
  {
   "cell_type": "code",
   "execution_count": 7,
   "id": "f4a6e343",
   "metadata": {},
   "outputs": [],
   "source": [
    "class ConfigurationManager:\n",
    "    def __init__(\n",
    "            self,\n",
    "            config_filepath = CONFIG_FILE_PATH,\n",
    "            params_filepath = PARAMS_FILE_PATH,\n",
    "            schema_filepath = SCHEMA_FILE_PATH):\n",
    "        self.config = read_yaml(config_filepath)\n",
    "        self.params = read_yaml(params_filepath)\n",
    "        self.schema = read_yaml(schema_filepath)\n",
    "\n",
    "        create_directories([self.config.artifacts_root])\n",
    "    \n",
    "    def get_data_ingestion_config(self) -> DataIngestionConfig:\n",
    "        config = self.config.data_ingestion\n",
    "\n",
    "        create_directories([config.root_dir])\n",
    "\n",
    "        data_ingestion_config = DataIngestionConfig(\n",
    "            root_dir=config.root_dir,\n",
    "            source_URL=config.source_URL,\n",
    "            local_data_file=config.local_data_file,\n",
    "            unzip_dir=config.unzip_dir\n",
    "        )\n",
    "\n",
    "        return data_ingestion_config"
   ]
  },
  {
   "cell_type": "code",
   "execution_count": 9,
   "id": "fcaec0d2",
   "metadata": {},
   "outputs": [],
   "source": [
    "import os\n",
    "from mlops_proj import logger\n",
    "from urllib.request import urlretrieve\n",
    "import zipfile\n",
    "from mlops_proj.utils.common import get_size"
   ]
  },
  {
   "cell_type": "code",
   "execution_count": 10,
   "id": "fe14559d",
   "metadata": {},
   "outputs": [],
   "source": [
    "class DataIngestion:\n",
    "    def __init__(self, config = DataIngestionConfig):\n",
    "        self.config = config\n",
    "    \n",
    "\n",
    "    def download_file(self):\n",
    "        if not os.path.exists(self.config.local_data_file):\n",
    "            filename, headers = urlretrieve(\n",
    "                url=self.config.source_URL,\n",
    "                filename=self.config.local_data_file\n",
    "            )\n",
    "            logger.info(f\"{filename} downloaded! Here's info about the file: \\n {headers}\")\n",
    "        else:\n",
    "            logger.info(f\"File already exists of size: {get_size(Path(self.config.local_data_file))}\")\n",
    "    \n",
    "\n",
    "    def extract_zipfile(self):\n",
    "        unzip_path = self.config.unzip_dir\n",
    "        os.makedirs(unzip_path, exist_ok=True)\n",
    "        with zipfile.ZipFile(self.config.local_data_file, 'r') as zip_ref:\n",
    "            zip_ref.extractall(unzip_path)"
   ]
  },
  {
   "cell_type": "code",
   "execution_count": 13,
   "id": "3cb3bf1c",
   "metadata": {},
   "outputs": [
    {
     "name": "stdout",
     "output_type": "stream",
     "text": [
      "[2025-07-11 20:46:44,734]: INFO: common: yaml file: config/config.yaml loaded successfully\n",
      "[2025-07-11 20:46:44,735]: INFO: common: yaml file: params.yaml loaded successfully\n",
      "[2025-07-11 20:46:44,735]: INFO: common: yaml file: schema.yaml loaded successfully\n",
      "[2025-07-11 20:46:44,736]: INFO: common: created directory at: artifacts\n",
      "[2025-07-11 20:46:44,737]: INFO: common: created directory at: artifacts/data_ingestion\n",
      "[2025-07-11 20:46:45,376]: INFO: 614481981: artifacts/data_ingestion/data.zip downloaded! Here's info about the file: \n",
      " Connection: close\n",
      "Content-Length: 23329\n",
      "Cache-Control: max-age=300\n",
      "Content-Security-Policy: default-src 'none'; style-src 'unsafe-inline'; sandbox\n",
      "Content-Type: application/zip\n",
      "ETag: \"c69888a4ae59bc5a893392785a938ccd4937981c06ba8a9d6a21aa52b4ab5b6e\"\n",
      "Strict-Transport-Security: max-age=31536000\n",
      "X-Content-Type-Options: nosniff\n",
      "X-Frame-Options: deny\n",
      "X-XSS-Protection: 1; mode=block\n",
      "X-GitHub-Request-Id: 7F36:341ACF:322028:41D8A4:6871CC92\n",
      "Accept-Ranges: bytes\n",
      "Date: Sat, 12 Jul 2025 02:46:45 GMT\n",
      "Via: 1.1 varnish\n",
      "X-Served-By: cache-den-kden1300031-DEN\n",
      "X-Cache: MISS\n",
      "X-Cache-Hits: 0\n",
      "X-Timer: S1752288405.319223,VS0,VE96\n",
      "Vary: Authorization,Accept-Encoding\n",
      "Access-Control-Allow-Origin: *\n",
      "Cross-Origin-Resource-Policy: cross-origin\n",
      "X-Fastly-Request-ID: 97c04958743bd899d6d8c1abc38e100afb299d43\n",
      "Expires: Sat, 12 Jul 2025 02:51:45 GMT\n",
      "Source-Age: 0\n",
      "\n",
      "\n"
     ]
    }
   ],
   "source": [
    "try:\n",
    "    # initializing and creating the configuration object\n",
    "    config = ConfigurationManager()\n",
    "\n",
    "    # getting the data ingestion configuration from the \"config.yaml\" file\n",
    "    data_ingestion_config = config.get_data_ingestion_config()\n",
    "\n",
    "    # creating the data ingestion object\n",
    "    data_ingestion = DataIngestion(config = data_ingestion_config)\n",
    "\n",
    "    # downloading the dataset file using the object\n",
    "    data_ingestion.download_file()\n",
    "\n",
    "    # extracting the downloaded file at the target unzipping directory which was already mentioned in the configuration file\n",
    "    data_ingestion.extract_zipfile()\n",
    "except Exception as e:\n",
    "    raise e"
   ]
  },
  {
   "cell_type": "markdown",
   "id": "518036fd",
   "metadata": {},
   "source": [
    "**Note:** If the `.yaml` files are empty, the data ingestion pipeline won't work since "
   ]
  },
  {
   "cell_type": "code",
   "execution_count": null,
   "id": "6959490a",
   "metadata": {},
   "outputs": [],
   "source": []
  }
 ],
 "metadata": {
  "kernelspec": {
   "display_name": ".mlops_env",
   "language": "python",
   "name": "python3"
  },
  "language_info": {
   "codemirror_mode": {
    "name": "ipython",
    "version": 3
   },
   "file_extension": ".py",
   "mimetype": "text/x-python",
   "name": "python",
   "nbconvert_exporter": "python",
   "pygments_lexer": "ipython3",
   "version": "3.9.6"
  }
 },
 "nbformat": 4,
 "nbformat_minor": 5
}

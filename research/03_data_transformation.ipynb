{
 "cells": [
  {
   "cell_type": "code",
   "execution_count": 1,
   "id": "1a12a3ed",
   "metadata": {},
   "outputs": [
    {
     "data": {
      "text/plain": [
       "'/Users/shreyashsahare28/Documents/SHREYASH/MASTERS/ADDITIONAL_PROJECTS/shres-mlops-project/research'"
      ]
     },
     "execution_count": 1,
     "metadata": {},
     "output_type": "execute_result"
    }
   ],
   "source": [
    "import os\n",
    "%pwd"
   ]
  },
  {
   "cell_type": "code",
   "execution_count": 2,
   "id": "bbf9f2b8",
   "metadata": {},
   "outputs": [],
   "source": [
    "os.chdir('../')"
   ]
  },
  {
   "cell_type": "code",
   "execution_count": 4,
   "id": "88211be3",
   "metadata": {},
   "outputs": [
    {
     "data": {
      "text/plain": [
       "'/Users/shreyashsahare28/Documents/SHREYASH/MASTERS/ADDITIONAL_PROJECTS/shres-mlops-project'"
      ]
     },
     "execution_count": 4,
     "metadata": {},
     "output_type": "execute_result"
    }
   ],
   "source": [
    "%pwd"
   ]
  },
  {
   "cell_type": "code",
   "execution_count": 5,
   "id": "d8f636f9",
   "metadata": {},
   "outputs": [],
   "source": [
    "# creating custom data validation object class\n",
    "from dataclasses import dataclass\n",
    "from pathlib import Path\n",
    "\n",
    "@dataclass(frozen=True)\n",
    "class DataTransformationConfig:\n",
    "    root_dir: Path\n",
    "    unclean_data_path: Path"
   ]
  },
  {
   "cell_type": "code",
   "execution_count": 6,
   "id": "417bf8f8",
   "metadata": {},
   "outputs": [],
   "source": [
    "from mlops_proj.constants import *\n",
    "from mlops_proj.utils.common import read_yaml, create_directories"
   ]
  },
  {
   "cell_type": "code",
   "execution_count": 7,
   "id": "94b1ccb8",
   "metadata": {},
   "outputs": [],
   "source": [
    "class ConfigurationManager:\n",
    "    def __init__(\n",
    "            self,\n",
    "            config_filepath = CONFIG_FILE_PATH,\n",
    "            params_filepath = PARAMS_FILE_PATH,\n",
    "            schema_filepath = SCHEMA_FILE_PATH):\n",
    "        self.config = read_yaml(config_filepath)\n",
    "        self.params = read_yaml(params_filepath)\n",
    "        self.schema = read_yaml(schema_filepath)\n",
    "\n",
    "        create_directories([self.config.artifacts_root])\n",
    "    \n",
    "    def get_data_transformation_config(self) -> DataTransformationConfig:\n",
    "        config = self.config.data_transformation\n",
    "\n",
    "        create_directories([config.root_dir])\n",
    "\n",
    "        data_transformation_config = DataTransformationConfig(\n",
    "            root_dir = config.root_dir,\n",
    "            unclean_data_path = config.unclean_data_path\n",
    "        )\n",
    "\n",
    "        return data_transformation_config"
   ]
  },
  {
   "cell_type": "code",
   "execution_count": 8,
   "id": "b5a5227d",
   "metadata": {},
   "outputs": [],
   "source": [
    "import os\n",
    "from mlops_proj import logger\n",
    "from sklearn.model_selection import train_test_split\n",
    "import pandas as pd"
   ]
  },
  {
   "cell_type": "code",
   "execution_count": 11,
   "id": "1489eaf5",
   "metadata": {},
   "outputs": [],
   "source": [
    "class DataTransformation:\n",
    "    def __init__(self, config=DataTransformationConfig):\n",
    "        self.config = config\n",
    "    \n",
    "\n",
    "    # In other projects, you can add different data transformation techniques such as PCA, Scalar and\n",
    "    # all other different EDA techniques for in-depth data cleaning and analysis before passing this\n",
    "    # data to the model\n",
    "\n",
    "    def train_test_splitting_data(self):\n",
    "        data = pd.read_csv(self.config.unclean_data_path)\n",
    "\n",
    "        # split the data into training and testing datasets\n",
    "        train, test = train_test_split(data)\n",
    "\n",
    "        train.to_csv(os.path.join(self.config.root_dir, \"train.csv\"), index = False)\n",
    "        test.to_csv(os.path.join(self.config.root_dir, \"test.csv\"), index = False)\n",
    "\n",
    "        logger.info(\"Split the data into training and testing datasets!\")\n",
    "        logger.info(train.shape)\n",
    "        logger.info(test.shape)\n",
    "\n",
    "        print(train.shape)\n",
    "        print(test.shape)"
   ]
  },
  {
   "cell_type": "code",
   "execution_count": 12,
   "id": "93faa0b7",
   "metadata": {},
   "outputs": [
    {
     "name": "stdout",
     "output_type": "stream",
     "text": [
      "[2025-07-12 20:06:53,384]: INFO: common: yaml file: config/config.yaml loaded successfully\n",
      "[2025-07-12 20:06:53,385]: INFO: common: yaml file: params.yaml loaded successfully\n",
      "[2025-07-12 20:06:53,387]: INFO: common: yaml file: schema.yaml loaded successfully\n",
      "[2025-07-12 20:06:53,387]: INFO: common: created directory at: artifacts\n",
      "[2025-07-12 20:06:53,388]: INFO: common: created directory at: artifacts/data_transformation\n",
      "[2025-07-12 20:06:53,399]: INFO: 1514852442: Split the data into training and testing datasets!\n",
      "[2025-07-12 20:06:53,399]: INFO: 1514852442: (1199, 12)\n",
      "[2025-07-12 20:06:53,400]: INFO: 1514852442: (400, 12)\n",
      "(1199, 12)\n",
      "(400, 12)\n"
     ]
    }
   ],
   "source": [
    "try:\n",
    "    config = ConfigurationManager()\n",
    "    data_transformation_config = config.get_data_transformation_config()\n",
    "    data_transformation = DataTransformation(config=data_transformation_config)\n",
    "    data_transformation.train_test_splitting_data()\n",
    "except Exception as e:\n",
    "    raise e"
   ]
  },
  {
   "cell_type": "code",
   "execution_count": null,
   "id": "70d22bf7",
   "metadata": {},
   "outputs": [],
   "source": []
  }
 ],
 "metadata": {
  "kernelspec": {
   "display_name": ".mlops_env",
   "language": "python",
   "name": "python3"
  },
  "language_info": {
   "codemirror_mode": {
    "name": "ipython",
    "version": 3
   },
   "file_extension": ".py",
   "mimetype": "text/x-python",
   "name": "python",
   "nbconvert_exporter": "python",
   "pygments_lexer": "ipython3",
   "version": "3.9.6"
  }
 },
 "nbformat": 4,
 "nbformat_minor": 5
}
